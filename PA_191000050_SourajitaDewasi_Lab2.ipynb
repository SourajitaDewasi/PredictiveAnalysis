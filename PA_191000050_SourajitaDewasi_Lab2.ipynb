{
  "nbformat": 4,
  "nbformat_minor": 0,
  "metadata": {
    "colab": {
      "name": "191000050_SourajitaDewasi.ipynb",
      "provenance": []
    },
    "kernelspec": {
      "name": "python3",
      "display_name": "Python 3"
    },
    "language_info": {
      "name": "python"
    }
  },
  "cells": [
    {
      "cell_type": "markdown",
      "source": [
        "```\n",
        "Sourajita Dewasi                                            Enrollment ID: 191000050\n",
        "B. Tech CSE (6th Semester)                                  Predictive Analytics(Lab Project 2&3)\n",
        "```\n",
        "\n"
      ],
      "metadata": {
        "id": "28EwR4avPGcG"
      }
    },
    {
      "cell_type": "code",
      "execution_count": null,
      "metadata": {
        "id": "pMdd55O5Eaqo"
      },
      "outputs": [],
      "source": [
        "#importing libraries\n",
        "from sklearn.datasets import load_iris\n",
        "from sklearn.ensemble import AdaBoostClassifier\n",
        "from sklearn.model_selection import train_test_split\n",
        "from sklearn import metrics\n",
        "import pandas as pd\n",
        "from sklearn.model_selection import cross_val_score\n",
        "from sklearn.model_selection import RepeatedStratifiedKFold\n",
        "from numpy import mean\n",
        "from numpy import std\n",
        "from matplotlib import pyplot\n",
        "import matplotlib.pyplot as plt"
      ]
    },
    {
      "cell_type": "code",
      "source": [
        "#importing dataset iris from sklearn datasets\n",
        "iris=load_iris()\n",
        "#setting independent variables X and target variables y\n",
        "X=iris.data[:,2:] #petal length and width\n",
        "y=iris.target     #petal class\n",
        "# summarize the dataset\n",
        "print(X.shape, y.shape)"
      ],
      "metadata": {
        "colab": {
          "base_uri": "https://localhost:8080/"
        },
        "id": "_0NH0FhUGjFZ",
        "outputId": "7627b7c6-d382-430b-d333-ee1848fca06a"
      },
      "execution_count": null,
      "outputs": [
        {
          "output_type": "stream",
          "name": "stdout",
          "text": [
            "(150, 2) (150,)\n"
          ]
        }
      ]
    },
    {
      "cell_type": "code",
      "source": [
        "# define the model\n",
        "model = AdaBoostClassifier()"
      ],
      "metadata": {
        "id": "7bl_ak2lG66m"
      },
      "execution_count": null,
      "outputs": []
    },
    {
      "cell_type": "code",
      "source": [
        "# evaluate the model\n",
        "cv = RepeatedStratifiedKFold(n_splits=10, n_repeats=3, random_state=1)\n",
        "n_scores = cross_val_score(model, X, y, scoring='accuracy', cv=cv, n_jobs=-1, error_score='raise')"
      ],
      "metadata": {
        "id": "ZLWzbFP-ITUt"
      },
      "execution_count": null,
      "outputs": []
    },
    {
      "cell_type": "code",
      "source": [
        "# report performance\n",
        "print('Accuracy: %.3f (%.3f)' % (mean(n_scores), std(n_scores)))"
      ],
      "metadata": {
        "colab": {
          "base_uri": "https://localhost:8080/"
        },
        "id": "YxIUSW0WIs8n",
        "outputId": "a10a7d13-a8ab-4c0d-f85e-9b2f6ec781c7"
      },
      "execution_count": null,
      "outputs": [
        {
          "output_type": "stream",
          "name": "stdout",
          "text": [
            "Accuracy: 0.949 (0.051)\n"
          ]
        }
      ]
    },
    {
      "cell_type": "markdown",
      "source": [
        "## Changing depth"
      ],
      "metadata": {
        "id": "4O3pssuC2KBB"
      }
    },
    {
      "cell_type": "code",
      "source": [
        "results, names, accuracy, standard_dev = list(), list(), list(), list()"
      ],
      "metadata": {
        "id": "Ku6Jm0ZT4ExZ"
      },
      "execution_count": null,
      "outputs": []
    },
    {
      "cell_type": "code",
      "source": [
        "from sklearn.tree import DecisionTreeClassifier\n",
        "models=dict()\n",
        "for i in range(1,11):\n",
        "  #defining base model\n",
        "  base_model = DecisionTreeClassifier(max_depth=i)\n",
        "  #define ensemble model\n",
        "  models[i]=AdaBoostClassifier(base_estimator=base_model)\n",
        "  #evaluate the model\n",
        "  cv=RepeatedStratifiedKFold(n_splits=10, n_repeats=3, random_state=1)\n",
        "  n_scores = cross_val_score(models[i], X, y, scoring='accuracy', cv=cv, n_jobs=-1, error_score='raise')\n",
        "  #report performance\n",
        "  print('Accuracy: %.3f (%.3f)' % (mean(n_scores), std(n_scores)))\n",
        "  #store the results\n",
        "  results.append(n_scores)\n",
        "  names.append(i)\n",
        "  accuracy.append(mean(n_scores))\n",
        "  standard_dev.append(std(n_scores))"
      ],
      "metadata": {
        "colab": {
          "base_uri": "https://localhost:8080/"
        },
        "id": "6hAgI0pY2gEW",
        "outputId": "117496be-4cc3-4a85-c2c4-bd3ab892d7f6"
      },
      "execution_count": null,
      "outputs": [
        {
          "output_type": "stream",
          "name": "stdout",
          "text": [
            "Accuracy: 0.949 (0.051)\n",
            "Accuracy: 0.951 (0.054)\n",
            "Accuracy: 0.944 (0.055)\n",
            "Accuracy: 0.944 (0.055)\n",
            "Accuracy: 0.949 (0.056)\n",
            "Accuracy: 0.944 (0.055)\n",
            "Accuracy: 0.944 (0.055)\n",
            "Accuracy: 0.944 (0.055)\n",
            "Accuracy: 0.938 (0.051)\n",
            "Accuracy: 0.940 (0.058)\n"
          ]
        }
      ]
    },
    {
      "cell_type": "code",
      "source": [
        "# plot model performance for comparison\n",
        "pyplot.boxplot(results, labels=names, showmeans=True)\n",
        "pyplot.show()"
      ],
      "metadata": {
        "colab": {
          "base_uri": "https://localhost:8080/",
          "height": 265
        },
        "id": "hpLZTQ405UJg",
        "outputId": "ce3e46e3-7f1f-4760-854f-c7e97b81c1db"
      },
      "execution_count": null,
      "outputs": [
        {
          "output_type": "display_data",
          "data": {
            "text/plain": [
              "<Figure size 432x288 with 1 Axes>"
            ],
            "image/png": "[encoded data removed]"
          },
          "metadata": {
            "needs_background": "light"
          }
        }
      ]
    },
    {
      "cell_type": "code",
      "source": [
        "import matplotlib.pyplot as plt\n",
        "# plotting the points\n",
        "plt.plot(accuracy, label='Accuracy', color='green', linestyle='dashed', linewidth = 3, marker='o', markerfacecolor='blue', markersize=12)\n",
        "plt.title(\"Comparision in Accuracy\")\n",
        "plt.xlabel('No of depth in base model')\n",
        "plt.ylabel('Accuracy')\n",
        "plt.legend()\n",
        "plt.show()"
      ],
      "metadata": {
        "colab": {
          "base_uri": "https://localhost:8080/",
          "height": 295
        },
        "id": "iriCDWyp8tbQ",
        "outputId": "5deef860-ebb7-4fc3-8716-cfff9a06a524"
      },
      "execution_count": null,
      "outputs": [
        {
          "output_type": "display_data",
          "data": {
            "text/plain": [
              "<Figure size 432x288 with 1 Axes>"
            ],
            "image/png": "[encoded data removed]"
          },
          "metadata": {
            "needs_background": "light"
          }
        }
      ]
    },
    {
      "cell_type": "code",
      "source": [
        "plt.plot(standard_dev, label='Standard Deviation', color='green', linestyle='-', linewidth = 3, marker='*', markerfacecolor='red', markersize=12)\n",
        "plt.title(\"Comparision in Standard Deviation\")\n",
        "plt.xlabel('No of depth in base model')\n",
        "plt.ylabel('Standard Deviation')\n",
        "plt.legend()\n",
        "plt.show()"
      ],
      "metadata": {
        "colab": {
          "base_uri": "https://localhost:8080/",
          "height": 295
        },
        "id": "Oia7dK_y-aeT",
        "outputId": "92ed4a3f-3404-43ca-b248-3299419de0f9"
      },
      "execution_count": null,
      "outputs": [
        {
          "output_type": "display_data",
          "data": {
            "text/plain": [
              "<Figure size 432x288 with 1 Axes>"
            ],
            "image/png": "[encoded data removed]"
          },
          "metadata": {
            "needs_background": "light"
          }
        }
      ]
    },
    {
      "cell_type": "markdown",
      "source": [
        "In conclusion, we see the Accuracy of the model is best at max_depth=1 and Standard Deviation of the model is best at max_depth=7 followed by max_depth=1. Since, accuracy is relatively poor at 7, we will consider the max_depth in this case best at 1. Also, by default the base_estimator when assigned 'None', the max_depth=1."
      ],
      "metadata": {
        "id": "K8gPXHpE8WYG"
      }
    },
    {
      "cell_type": "markdown",
      "source": [
        "## Changing number of trees"
      ],
      "metadata": {
        "id": "JZqrctxUusgm"
      }
    },
    {
      "cell_type": "code",
      "source": [
        "results, names, accuracy, standard_dev = list(), list(), list(), list()"
      ],
      "metadata": {
        "id": "7oszWjcw6xhM"
      },
      "execution_count": null,
      "outputs": []
    },
    {
      "cell_type": "code",
      "source": [
        "no_of_trees = [10,20,100,200,500,1000]"
      ],
      "metadata": {
        "id": "FsTZUfE069rY"
      },
      "execution_count": null,
      "outputs": []
    },
    {
      "cell_type": "code",
      "source": [
        "models=dict()\n",
        "for i in range(0,6):\n",
        "  #define ensemble model\n",
        "  models[i]=AdaBoostClassifier(n_estimators=no_of_trees[i])\n",
        "  #evaluate the model\n",
        "  cv=RepeatedStratifiedKFold(n_splits=10, n_repeats=3, random_state=1)\n",
        "  n_scores = cross_val_score(models[i], X, y, scoring='accuracy', cv=cv, n_jobs=-1, error_score='raise')\n",
        "  #report performance\n",
        "  print('Number of Trees', no_of_trees[i])\n",
        "  print('Accuracy: %.3f (%.3f)' % (mean(n_scores), std(n_scores)))\n",
        "  #store the results\n",
        "  results.append(n_scores)\n",
        "  names.append(i)\n",
        "  accuracy.append(mean(n_scores))\n",
        "  standard_dev.append(std(n_scores))"
      ],
      "metadata": {
        "colab": {
          "base_uri": "https://localhost:8080/"
        },
        "outputId": "64a1f323-5834-46f5-d52a-ac960a9b95c2",
        "id": "DpjsSV-D6xhO"
      },
      "execution_count": null,
      "outputs": [
        {
          "output_type": "stream",
          "name": "stdout",
          "text": [
            "Number of Trees 10\n",
            "Accuracy: 0.949 (0.051)\n",
            "Number of Trees 20\n",
            "Accuracy: 0.953 (0.049)\n",
            "Number of Trees 100\n",
            "Accuracy: 0.953 (0.049)\n",
            "Number of Trees 200\n",
            "Accuracy: 0.953 (0.049)\n",
            "Number of Trees 500\n",
            "Accuracy: 0.953 (0.049)\n",
            "Number of Trees 1000\n",
            "Accuracy: 0.953 (0.049)\n"
          ]
        }
      ]
    },
    {
      "cell_type": "code",
      "source": [
        "# plotting the points\n",
        "plt.plot(no_of_trees, accuracy, label='Accuracy', color='green', linestyle='dashed', linewidth = 3, marker='o', markerfacecolor='blue', markersize=12)\n",
        "plt.title(\"Comparision in Accuracy\")\n",
        "plt.xlabel('Number of Trees')\n",
        "plt.ylabel('Accuracy')\n",
        "plt.legend()\n",
        "plt.show()"
      ],
      "metadata": {
        "colab": {
          "base_uri": "https://localhost:8080/",
          "height": 295
        },
        "outputId": "e8a40f2e-9fd6-4462-e1e2-3afbc61c8a66",
        "id": "UdfiRJLcA72_"
      },
      "execution_count": null,
      "outputs": [
        {
          "output_type": "display_data",
          "data": {
            "text/plain": [
              "<Figure size 432x288 with 1 Axes>"
            ],
            "image/png": "[encoded data removed]"
          },
          "metadata": {
            "needs_background": "light"
          }
        }
      ]
    },
    {
      "cell_type": "code",
      "source": [
        "plt.plot(no_of_trees, standard_dev, label='Standard Deviation', color='green', linestyle='-', linewidth = 3, marker='*', markerfacecolor='red', markersize=12)\n",
        "plt.title(\"Comparision in Standard Devaiation\")\n",
        "plt.xlabel('Number of trees')\n",
        "plt.ylabel('Standard Deviation')\n",
        "plt.legend()\n",
        "plt.show()"
      ],
      "metadata": {
        "colab": {
          "base_uri": "https://localhost:8080/",
          "height": 295
        },
        "outputId": "dcd75ace-047d-4050-ef56-1ee4f3d2bab7",
        "id": "vZoa1KFqA73A"
      },
      "execution_count": null,
      "outputs": [
        {
          "output_type": "display_data",
          "data": {
            "text/plain": [
              "<Figure size 432x288 with 1 Axes>"
            ],
            "image/png": "[encoded data removed]"
          },
          "metadata": {
            "needs_background": "light"
          }
        }
      ]
    },
    {
      "cell_type": "markdown",
      "source": [
        "In conclusion, we see the Accuracy and Standard Deviation  of the model is best at no_of_trees=20 and then it doesn't change it's value after that. Hence, base_estimator='None' and no_of_trees=20. We don't apply more number of trees than 20 to make it computationally fast with less iterations even when the accuracy doesn't change."
      ],
      "metadata": {
        "id": "7btzGwQiCohV"
      }
    },
    {
      "cell_type": "markdown",
      "source": [
        "## Changing Learning Rate"
      ],
      "metadata": {
        "id": "tg4jpEUuDwlZ"
      }
    },
    {
      "cell_type": "code",
      "source": [
        "results, names, accuracy, standard_dev = list(), list(), list(), list()"
      ],
      "metadata": {
        "id": "h-S-d9YsDQoh"
      },
      "execution_count": null,
      "outputs": []
    },
    {
      "cell_type": "code",
      "source": [
        "learning_rate=[0.0001, 0.001, 0.01, 0.05, 0.1, 1.0, 2.0, 5.0]"
      ],
      "metadata": {
        "id": "GQB7xUIr2Xd5"
      },
      "execution_count": null,
      "outputs": []
    },
    {
      "cell_type": "code",
      "source": [
        "models=dict()\n",
        "for i in range(0,8):\n",
        "  #define ensemble model\n",
        "  models[i]=AdaBoostClassifier(n_estimators=20, learning_rate=learning_rate[i])\n",
        "  #evaluate the model\n",
        "  cv=RepeatedStratifiedKFold(n_splits=10, n_repeats=3, random_state=1)\n",
        "  n_scores = cross_val_score(models[i], X, y, scoring='accuracy', cv=cv, n_jobs=-1, error_score='raise')\n",
        "  #report performance\n",
        "  print('Learning Rate', learning_rate[i])\n",
        "  print('Accuracy: %.3f (%.3f)' % (mean(n_scores), std(n_scores)))\n",
        "  #store the results\n",
        "  results.append(n_scores)\n",
        "  names.append(i)\n",
        "  accuracy.append(mean(n_scores))\n",
        "  standard_dev.append(std(n_scores))"
      ],
      "metadata": {
        "colab": {
          "base_uri": "https://localhost:8080/"
        },
        "id": "VtcVAoHmEieN",
        "outputId": "56c71fa3-8496-4e34-9062-4087ef509782"
      },
      "execution_count": null,
      "outputs": [
        {
          "output_type": "stream",
          "name": "stdout",
          "text": [
            "Learning Rate 0.0001\n",
            "Accuracy: 0.667 (0.000)\n",
            "Learning Rate 0.001\n",
            "Accuracy: 0.667 (0.000)\n",
            "Learning Rate 0.01\n",
            "Accuracy: 0.949 (0.054)\n",
            "Learning Rate 0.05\n",
            "Accuracy: 0.922 (0.049)\n",
            "Learning Rate 0.1\n",
            "Accuracy: 0.922 (0.049)\n",
            "Learning Rate 1.0\n",
            "Accuracy: 0.953 (0.049)\n",
            "Learning Rate 2.0\n",
            "Accuracy: 0.916 (0.091)\n",
            "Learning Rate 5.0\n",
            "Accuracy: 0.489 (0.208)\n"
          ]
        }
      ]
    },
    {
      "cell_type": "code",
      "source": [
        "# plotting the points\n",
        "plt.plot(learning_rate, accuracy, label='Accuracy', color='green', linestyle='dashed', linewidth = 3, marker='o', markerfacecolor='blue', markersize=12)\n",
        "plt.title(\"Comparision in Accuracy\")\n",
        "plt.xlabel('Learning_Rate')\n",
        "plt.ylabel('Accuracy')\n",
        "plt.legend()\n",
        "plt.show()"
      ],
      "metadata": {
        "colab": {
          "base_uri": "https://localhost:8080/",
          "height": 296
        },
        "outputId": "e76778a8-0567-42cf-9824-15bfd1708915",
        "id": "Le5ySllXFejX"
      },
      "execution_count": null,
      "outputs": [
        {
          "output_type": "display_data",
          "data": {
            "text/plain": [
              "<Figure size 432x288 with 1 Axes>"
            ],
            "image/png": "[encoded data removed]"
          },
          "metadata": {
            "needs_background": "light"
          }
        }
      ]
    },
    {
      "cell_type": "code",
      "source": [
        "plt.plot(learning_rate, standard_dev, label='Standard Deviation', color='green', linestyle='-', linewidth = 3, marker='*', markerfacecolor='red', markersize=12)\n",
        "plt.title(\"Comparision in Standard Devaiation\")\n",
        "plt.xlabel('Learning_Rate')\n",
        "plt.ylabel('Standard Deviation')\n",
        "plt.legend()\n",
        "plt.show()"
      ],
      "metadata": {
        "colab": {
          "base_uri": "https://localhost:8080/",
          "height": 296
        },
        "outputId": "94e11fba-5dad-45a2-e876-f98a559816ef",
        "id": "Y6TxEryjFejZ"
      },
      "execution_count": null,
      "outputs": [
        {
          "output_type": "display_data",
          "data": {
            "text/plain": [
              "<Figure size 432x288 with 1 Axes>"
            ],
            "image/png": "[encoded data removed]"
          },
          "metadata": {
            "needs_background": "light"
          }
        }
      ]
    },
    {
      "cell_type": "markdown",
      "source": [
        "In conclusion, we see the Accuracy and Standard Deviation  of the model is best at learning_rate=1.0 and in the close values around it, there is usually an decrease in the accuracy. Hence, for base_estimator='None' and no_of_trees=20, the best learning_rate is 1.0. Also, by default the learning_rate when not assigned any value, is 1.0."
      ],
      "metadata": {
        "id": "wt9UoonDHjCn"
      }
    },
    {
      "cell_type": "markdown",
      "source": [
        "## Changing Base Algorithm "
      ],
      "metadata": {
        "id": "JFn21CFBDz9H"
      }
    },
    {
      "cell_type": "code",
      "source": [
        "from sklearn.linear_model import LogisticRegression\n",
        "# define the model\n",
        "model = AdaBoostClassifier(base_estimator=LogisticRegression())\n",
        "# evaluate the model\n",
        "cv = RepeatedStratifiedKFold(n_splits=10, n_repeats=3, random_state=1)\n",
        "n_scores = cross_val_score(model, X, y, scoring='accuracy', cv=cv, n_jobs=-1, error_score='raise')\n",
        "# report performance\n",
        "print('Accuracy: %.3f (%.3f)' % (mean(n_scores), std(n_scores)))"
      ],
      "metadata": {
        "colab": {
          "base_uri": "https://localhost:8080/"
        },
        "id": "12HLlQbNIIeY",
        "outputId": "299fa994-215e-4009-e9b8-6c8c7716062d"
      },
      "execution_count": null,
      "outputs": [
        {
          "output_type": "stream",
          "name": "stdout",
          "text": [
            "Accuracy: 0.951 (0.045)\n"
          ]
        }
      ]
    },
    {
      "cell_type": "markdown",
      "source": [
        "\n",
        "\n",
        "```\n",
        "Hence at -------\n",
        "learning rate = 1.0\n",
        "base_estimator = Decision Tree\n",
        "max_depth = 1.0\n",
        "no of trees = 20\n",
        "we get the best accuracy at 95.3% and standard deviation = 0.054\n",
        "```\n"
      ],
      "metadata": {
        "id": "JmLPmWCZIbs3"
      }
    },
    {
      "cell_type": "code",
      "source": [
        ""
      ],
      "metadata": {
        "id": "lR3GILggKL_c"
      },
      "execution_count": null,
      "outputs": []
    },
    {
      "cell_type": "markdown",
      "source": [
        "### Exploring Error and Sigma For Each Decision Stump"
      ],
      "metadata": {
        "id": "4jJ-JKvtB086"
      }
    },
    {
      "cell_type": "code",
      "source": [
        "#importing libraries to build decision stump and perform adaboost from scratch\n",
        "from sklearn import tree\n",
        "from math import log,exp\n",
        "from random import sample\n",
        "import numpy as np\n",
        "import random"
      ],
      "metadata": {
        "id": "WaiAJ2MbjWpr"
      },
      "execution_count": null,
      "outputs": []
    },
    {
      "cell_type": "code",
      "source": [
        "#importing file\n",
        "iris = pd.read_csv(\"Iris.csv\")  \n",
        "#considering only two classes\n",
        "df = iris[(iris['Species'] == 'Iris-versicolor') | (iris['Species'] == 'Iris-virginica')]\n",
        "#replacing the two classes with +1 and -1\n",
        "df['Label'] = df['Species'].replace(to_replace = ['Iris-versicolor','Iris-virginica'], value=[1,-1])\n",
        "#Dropping the Species column\n",
        "df = df.drop('Species', axis = 1)\n",
        "#Assigning equal weights to every dataset rows\n",
        "df['probR1'] = 1/(df.shape[0])\n",
        "#simple random sample with replacement\n",
        "random.seed(10)\n",
        "df1 = df.sample(len(df), replace = True, weights = df['probR1'])\n",
        "#X_train and Y_train split\n",
        "X_train = df1.iloc[0:len(iris),1:5]\n",
        "y_train = df1.iloc[0:len(iris),5]\n",
        "#fitting the Decision Tree model with depth one\n",
        "clf_gini = DecisionTreeClassifier(criterion = \"gini\", random_state = 100, max_depth=1)\n",
        "clf = clf_gini.fit(X_train, y_train)\n",
        "#plotting tree for round 1 boosting\n",
        "tree.plot_tree(clf)\n",
        "\n"
      ],
      "metadata": {
        "colab": {
          "base_uri": "https://localhost:8080/",
          "height": 436
        },
        "id": "vA-91YQIjuZI",
        "outputId": "61647905-49f1-4a4f-a97e-1bb128a4a0e4"
      },
      "execution_count": null,
      "outputs": [
        {
          "output_type": "stream",
          "name": "stderr",
          "text": [
            "/usr/local/lib/python3.7/dist-packages/ipykernel_launcher.py:6: SettingWithCopyWarning: \n",
            "A value is trying to be set on a copy of a slice from a DataFrame.\n",
            "Try using .loc[row_indexer,col_indexer] = value instead\n",
            "\n",
            "See the caveats in the documentation: https://pandas.pydata.org/pandas-docs/stable/user_guide/indexing.html#returning-a-view-versus-a-copy\n",
            "  \n"
          ]
        },
        {
          "output_type": "execute_result",
          "data": {
            "text/plain": [
              "[Text(0.5, 0.75, 'X[2] <= 4.95\\ngini = 0.498\\nsamples = 100\\nvalue = [47, 53]'),\n",
              " Text(0.25, 0.25, 'gini = 0.191\\nsamples = 56\\nvalue = [6, 50]'),\n",
              " Text(0.75, 0.25, 'gini = 0.127\\nsamples = 44\\nvalue = [41, 3]')]"
            ]
          },
          "metadata": {},
          "execution_count": 57
        },
        {
          "output_type": "display_data",
          "data": {
            "text/plain": [
              "<Figure size 432x288 with 1 Axes>"
            ],
            "image/png": "[encoded data removed]"
          },
          "metadata": {
            "needs_background": "light"
          }
        }
      ]
    },
    {
      "cell_type": "code",
      "source": [
        "#prediction\n",
        "y_pred = clf_gini.predict(df.iloc[0:len(iris),1:5])\n",
        "#adding a column pred1 after the first round of boosting\n",
        "df['pred1'] = y_pred\n",
        "#misclassified = 0 if the label and prediction are same\n",
        "df.loc[df.Label != df.pred1, 'misclassified'] = 1\n",
        "df.loc[df.Label == df.pred1, 'misclassified'] = 0\n",
        "#error calculation\n",
        "e1 = sum(df['misclassified'] * df['probR1'])\n",
        "#sigma calculation\n",
        "sigma1 = 0.5*log((1-e1)/e1)\n",
        "#print sigma and error\n",
        "print(\"Error of First Iteration\", e1)\n",
        "print(\"Sigma of First Iteration\", sigma1)\n"
      ],
      "metadata": {
        "id": "pPKsiRVnAeih",
        "colab": {
          "base_uri": "https://localhost:8080/"
        },
        "outputId": "721c97f4-0380-46cf-f57b-ba2b9ed0e04b"
      },
      "execution_count": null,
      "outputs": [
        {
          "output_type": "stream",
          "name": "stdout",
          "text": [
            "Error of First Iteration 0.08\n",
            "Sigma of First Iteration 1.2211735176846021\n"
          ]
        }
      ]
    },
    {
      "cell_type": "code",
      "source": [
        "#update weight\n",
        "new_weight = df['probR1']*np.exp(-1*sigma1*df['Label']*df['pred1'])\n",
        "#normalized weight\n",
        "z = sum(new_weight)\n",
        "normalized_weight = new_weight/sum(new_weight)\n",
        "df['prob2'] = round(normalized_weight,4)\n",
        "df"
      ],
      "metadata": {
        "colab": {
          "base_uri": "https://localhost:8080/",
          "height": 487
        },
        "id": "KIe3VuZXBrct",
        "outputId": "81dacc47-c449-4d55-fa66-59fa7258fc8a"
      },
      "execution_count": null,
      "outputs": [
        {
          "output_type": "execute_result",
          "data": {
            "text/plain": [
              "      Id  SepalLengthCm  SepalWidthCm  PetalLengthCm  PetalWidthCm  Label  \\\n",
              "50    51            7.0           3.2            4.7           1.4      1   \n",
              "51    52            6.4           3.2            4.5           1.5      1   \n",
              "52    53            6.9           3.1            4.9           1.5      1   \n",
              "53    54            5.5           2.3            4.0           1.3      1   \n",
              "54    55            6.5           2.8            4.6           1.5      1   \n",
              "..   ...            ...           ...            ...           ...    ...   \n",
              "145  146            6.7           3.0            5.2           2.3     -1   \n",
              "146  147            6.3           2.5            5.0           1.9     -1   \n",
              "147  148            6.5           3.0            5.2           2.0     -1   \n",
              "148  149            6.2           3.4            5.4           2.3     -1   \n",
              "149  150            5.9           3.0            5.1           1.8     -1   \n",
              "\n",
              "     probR1  pred1  misclassified   prob2  \n",
              "50     0.01      1            0.0  0.0054  \n",
              "51     0.01      1            0.0  0.0054  \n",
              "52     0.01      1            0.0  0.0054  \n",
              "53     0.01      1            0.0  0.0054  \n",
              "54     0.01      1            0.0  0.0054  \n",
              "..      ...    ...            ...     ...  \n",
              "145    0.01     -1            0.0  0.0054  \n",
              "146    0.01     -1            0.0  0.0054  \n",
              "147    0.01     -1            0.0  0.0054  \n",
              "148    0.01     -1            0.0  0.0054  \n",
              "149    0.01     -1            0.0  0.0054  \n",
              "\n",
              "[100 rows x 10 columns]"
            ],
            "text/html": [
              "\n",
              "  <div id=\"df-bacf64b1-f8a7-4b79-85ee-8d22752e49db\">\n",
              "    <div class=\"colab-df-container\">\n",
              "      <div>\n",
              "<style scoped>\n",
              "    .dataframe tbody tr th:only-of-type {\n",
              "        vertical-align: middle;\n",
              "    }\n",
              "\n",
              "    .dataframe tbody tr th {\n",
              "        vertical-align: top;\n",
              "    }\n",
              "\n",
              "    .dataframe thead th {\n",
              "        text-align: right;\n",
              "    }\n",
              "</style>\n",
              "<table border=\"1\" class=\"dataframe\">\n",
              "  <thead>\n",
              "    <tr style=\"text-align: right;\">\n",
              "      <th></th>\n",
              "      <th>Id</th>\n",
              "      <th>SepalLengthCm</th>\n",
              "      <th>SepalWidthCm</th>\n",
              "      <th>PetalLengthCm</th>\n",
              "      <th>PetalWidthCm</th>\n",
              "      <th>Label</th>\n",
              "      <th>probR1</th>\n",
              "      <th>pred1</th>\n",
              "      <th>misclassified</th>\n",
              "      <th>prob2</th>\n",
              "    </tr>\n",
              "  </thead>\n",
              "  <tbody>\n",
              "    <tr>\n",
              "      <th>50</th>\n",
              "      <td>51</td>\n",
              "      <td>7.0</td>\n",
              "      <td>3.2</td>\n",
              "      <td>4.7</td>\n",
              "      <td>1.4</td>\n",
              "      <td>1</td>\n",
              "      <td>0.01</td>\n",
              "      <td>1</td>\n",
              "      <td>0.0</td>\n",
              "      <td>0.0054</td>\n",
              "    </tr>\n",
              "    <tr>\n",
              "      <th>51</th>\n",
              "      <td>52</td>\n",
              "      <td>6.4</td>\n",
              "      <td>3.2</td>\n",
              "      <td>4.5</td>\n",
              "      <td>1.5</td>\n",
              "      <td>1</td>\n",
              "      <td>0.01</td>\n",
              "      <td>1</td>\n",
              "      <td>0.0</td>\n",
              "      <td>0.0054</td>\n",
              "    </tr>\n",
              "    <tr>\n",
              "      <th>52</th>\n",
              "      <td>53</td>\n",
              "      <td>6.9</td>\n",
              "      <td>3.1</td>\n",
              "      <td>4.9</td>\n",
              "      <td>1.5</td>\n",
              "      <td>1</td>\n",
              "      <td>0.01</td>\n",
              "      <td>1</td>\n",
              "      <td>0.0</td>\n",
              "      <td>0.0054</td>\n",
              "    </tr>\n",
              "    <tr>\n",
              "      <th>53</th>\n",
              "      <td>54</td>\n",
              "      <td>5.5</td>\n",
              "      <td>2.3</td>\n",
              "      <td>4.0</td>\n",
              "      <td>1.3</td>\n",
              "      <td>1</td>\n",
              "      <td>0.01</td>\n",
              "      <td>1</td>\n",
              "      <td>0.0</td>\n",
              "      <td>0.0054</td>\n",
              "    </tr>\n",
              "    <tr>\n",
              "      <th>54</th>\n",
              "      <td>55</td>\n",
              "      <td>6.5</td>\n",
              "      <td>2.8</td>\n",
              "      <td>4.6</td>\n",
              "      <td>1.5</td>\n",
              "      <td>1</td>\n",
              "      <td>0.01</td>\n",
              "      <td>1</td>\n",
              "      <td>0.0</td>\n",
              "      <td>0.0054</td>\n",
              "    </tr>\n",
              "    <tr>\n",
              "      <th>...</th>\n",
              "      <td>...</td>\n",
              "      <td>...</td>\n",
              "      <td>...</td>\n",
              "      <td>...</td>\n",
              "      <td>...</td>\n",
              "      <td>...</td>\n",
              "      <td>...</td>\n",
              "      <td>...</td>\n",
              "      <td>...</td>\n",
              "      <td>...</td>\n",
              "    </tr>\n",
              "    <tr>\n",
              "      <th>145</th>\n",
              "      <td>146</td>\n",
              "      <td>6.7</td>\n",
              "      <td>3.0</td>\n",
              "      <td>5.2</td>\n",
              "      <td>2.3</td>\n",
              "      <td>-1</td>\n",
              "      <td>0.01</td>\n",
              "      <td>-1</td>\n",
              "      <td>0.0</td>\n",
              "      <td>0.0054</td>\n",
              "    </tr>\n",
              "    <tr>\n",
              "      <th>146</th>\n",
              "      <td>147</td>\n",
              "      <td>6.3</td>\n",
              "      <td>2.5</td>\n",
              "      <td>5.0</td>\n",
              "      <td>1.9</td>\n",
              "      <td>-1</td>\n",
              "      <td>0.01</td>\n",
              "      <td>-1</td>\n",
              "      <td>0.0</td>\n",
              "      <td>0.0054</td>\n",
              "    </tr>\n",
              "    <tr>\n",
              "      <th>147</th>\n",
              "      <td>148</td>\n",
              "      <td>6.5</td>\n",
              "      <td>3.0</td>\n",
              "      <td>5.2</td>\n",
              "      <td>2.0</td>\n",
              "      <td>-1</td>\n",
              "      <td>0.01</td>\n",
              "      <td>-1</td>\n",
              "      <td>0.0</td>\n",
              "      <td>0.0054</td>\n",
              "    </tr>\n",
              "    <tr>\n",
              "      <th>148</th>\n",
              "      <td>149</td>\n",
              "      <td>6.2</td>\n",
              "      <td>3.4</td>\n",
              "      <td>5.4</td>\n",
              "      <td>2.3</td>\n",
              "      <td>-1</td>\n",
              "      <td>0.01</td>\n",
              "      <td>-1</td>\n",
              "      <td>0.0</td>\n",
              "      <td>0.0054</td>\n",
              "    </tr>\n",
              "    <tr>\n",
              "      <th>149</th>\n",
              "      <td>150</td>\n",
              "      <td>5.9</td>\n",
              "      <td>3.0</td>\n",
              "      <td>5.1</td>\n",
              "      <td>1.8</td>\n",
              "      <td>-1</td>\n",
              "      <td>0.01</td>\n",
              "      <td>-1</td>\n",
              "      <td>0.0</td>\n",
              "      <td>0.0054</td>\n",
              "    </tr>\n",
              "  </tbody>\n",
              "</table>\n",
              "<p>100 rows × 10 columns</p>\n",
              "</div>\n",
              "      <button class=\"colab-df-convert\" onclick=\"convertToInteractive('df-bacf64b1-f8a7-4b79-85ee-8d22752e49db')\"\n",
              "              title=\"Convert this dataframe to an interactive table.\"\n",
              "              style=\"display:none;\">\n",
              "        \n",
              "  <svg xmlns=\"http://www.w3.org/2000/svg\" height=\"24px\"viewBox=\"0 0 24 24\"\n",
              "       width=\"24px\">\n",
              "    <path d=\"M0 0h24v24H0V0z\" fill=\"none\"/>\n",
              "    <path d=\"M18.56 5.44l.94 2.06.94-2.06 2.06-.94-2.06-.94-.94-2.06-.94 2.06-2.06.94zm-11 1L8.5 8.5l.94-2.06 2.06-.94-2.06-.94L8.5 2.5l-.94 2.06-2.06.94zm10 10l.94 2.06.94-2.06 2.06-.94-2.06-.94-.94-2.06-.94 2.06-2.06.94z\"/><path d=\"M17.41 7.96l-1.37-1.37c-.4-.4-.92-.59-1.43-.59-.52 0-1.04.2-1.43.59L10.3 9.45l-7.72 7.72c-.78.78-.78 2.05 0 2.83L4 21.41c.39.39.9.59 1.41.59.51 0 1.02-.2 1.41-.59l7.78-7.78 2.81-2.81c.8-.78.8-2.07 0-2.86zM5.41 20L4 18.59l7.72-7.72 1.47 1.35L5.41 20z\"/>\n",
              "  </svg>\n",
              "      </button>\n",
              "      \n",
              "  <style>\n",
              "    .colab-df-container {\n",
              "      display:flex;\n",
              "      flex-wrap:wrap;\n",
              "      gap: 12px;\n",
              "    }\n",
              "\n",
              "    .colab-df-convert {\n",
              "      background-color: #E8F0FE;\n",
              "      border: none;\n",
              "      border-radius: 50%;\n",
              "      cursor: pointer;\n",
              "      display: none;\n",
              "      fill: #1967D2;\n",
              "      height: 32px;\n",
              "      padding: 0 0 0 0;\n",
              "      width: 32px;\n",
              "    }\n",
              "\n",
              "    .colab-df-convert:hover {\n",
              "      background-color: #E2EBFA;\n",
              "      box-shadow: 0px 1px 2px rgba(60, 64, 67, 0.3), 0px 1px 3px 1px rgba(60, 64, 67, 0.15);\n",
              "      fill: #174EA6;\n",
              "    }\n",
              "\n",
              "    [theme=dark] .colab-df-convert {\n",
              "      background-color: #3B4455;\n",
              "      fill: #D2E3FC;\n",
              "    }\n",
              "\n",
              "    [theme=dark] .colab-df-convert:hover {\n",
              "      background-color: #434B5C;\n",
              "      box-shadow: 0px 1px 3px 1px rgba(0, 0, 0, 0.15);\n",
              "      filter: drop-shadow(0px 1px 2px rgba(0, 0, 0, 0.3));\n",
              "      fill: #FFFFFF;\n",
              "    }\n",
              "  </style>\n",
              "\n",
              "      <script>\n",
              "        const buttonEl =\n",
              "          document.querySelector('#df-bacf64b1-f8a7-4b79-85ee-8d22752e49db button.colab-df-convert');\n",
              "        buttonEl.style.display =\n",
              "          google.colab.kernel.accessAllowed ? 'block' : 'none';\n",
              "\n",
              "        async function convertToInteractive(key) {\n",
              "          const element = document.querySelector('#df-bacf64b1-f8a7-4b79-85ee-8d22752e49db');\n",
              "          const dataTable =\n",
              "            await google.colab.kernel.invokeFunction('convertToInteractive',\n",
              "                                                     [key], {});\n",
              "          if (!dataTable) return;\n",
              "\n",
              "          const docLinkHtml = 'Like what you see? Visit the ' +\n",
              "            '<a target=\"_blank\" href=https://colab.research.google.com/notebooks/data_table.ipynb>data table notebook</a>'\n",
              "            + ' to learn more about interactive tables.';\n",
              "          element.innerHTML = '';\n",
              "          dataTable['output_type'] = 'display_data';\n",
              "          await google.colab.output.renderOutput(dataTable, element);\n",
              "          const docLink = document.createElement('div');\n",
              "          docLink.innerHTML = docLinkHtml;\n",
              "          element.appendChild(docLink);\n",
              "        }\n",
              "      </script>\n",
              "    </div>\n",
              "  </div>\n",
              "  "
            ]
          },
          "metadata": {},
          "execution_count": 59
        }
      ]
    },
    {
      "cell_type": "code",
      "source": [
        "#round 2\n",
        "random.seed(20)\n",
        "df2 = df.sample(len(df), replace = True, weights = df['prob2'])\n",
        "df2 = df2.iloc[:,0:6]\n",
        "X_train = df2.iloc[0:len(iris),1:5]\n",
        "y_train = df2.iloc[0:len(iris),5]\n",
        "\n",
        "clf_gini = DecisionTreeClassifier(criterion = \"gini\", random_state = 100, max_depth=1)\n",
        "clf = clf_gini.fit(X_train, y_train)\n",
        "\n",
        "y_pred = clf_gini.predict(df.iloc[0:len(iris),1:5])\n",
        "#adding a column pred2 after the second round of boosting\n",
        "df['pred2'] = y_pred\n",
        "#plotting tree for round 2 boosting\n",
        "tree.plot_tree(clf)"
      ],
      "metadata": {
        "colab": {
          "base_uri": "https://localhost:8080/",
          "height": 304
        },
        "id": "cHxZRHh6AH_B",
        "outputId": "6205c39b-9b49-42a1-e896-0c582bef4847"
      },
      "execution_count": null,
      "outputs": [
        {
          "output_type": "execute_result",
          "data": {
            "text/plain": [
              "[Text(0.5, 0.75, 'X[3] <= 1.75\\ngini = 0.498\\nsamples = 100\\nvalue = [53, 47]'),\n",
              " Text(0.25, 0.25, 'gini = 0.177\\nsamples = 51\\nvalue = [5, 46]'),\n",
              " Text(0.75, 0.25, 'gini = 0.04\\nsamples = 49\\nvalue = [48, 1]')]"
            ]
          },
          "metadata": {},
          "execution_count": 61
        },
        {
          "output_type": "display_data",
          "data": {
            "text/plain": [
              "<Figure size 432x288 with 1 Axes>"
            ],
            "image/png": "[encoded data removed]"
          },
          "metadata": {
            "needs_background": "light"
          }
        }
      ]
    },
    {
      "cell_type": "code",
      "source": [
        "#adding a field misclassified2\n",
        "df.loc[df.Label != df.pred2, 'misclassified2'] = 1\n",
        "df.loc[df.Label == df.pred2, 'misclassified2'] = 0\n",
        "# calculation of error\n",
        "e2 = sum(df['misclassified2'] * df['prob2'])\n",
        "#calculation of alpha\n",
        "sigma2 = 0.5*log((1-e2)/e2)\n",
        "#print sigma and error\n",
        "print(\"Error of Second Iteration\", e2)\n",
        "print(\"Sigma of Second Iteration\", sigma2)"
      ],
      "metadata": {
        "colab": {
          "base_uri": "https://localhost:8080/"
        },
        "id": "wGngEMcfDY0Y",
        "outputId": "8f29ea8b-380d-47bb-c126-1cb9e70171a3"
      },
      "execution_count": null,
      "outputs": [
        {
          "output_type": "stream",
          "name": "stdout",
          "text": [
            "Error of Second Iteration 0.08950000000000001\n",
            "Sigma of Second Iteration 1.1598776369434263\n"
          ]
        }
      ]
    },
    {
      "cell_type": "code",
      "source": [
        "#update weight\n",
        "new_weight = df['prob2']*np.exp(-1*sigma2*df['Label']*df['pred2'])\n",
        "z = sum(new_weight)\n",
        "normalized_weight = new_weight/sum(new_weight)\n",
        "df['prob3'] = round(normalized_weight,4)\n",
        "df"
      ],
      "metadata": {
        "colab": {
          "base_uri": "https://localhost:8080/",
          "height": 487
        },
        "id": "EcEIpOUYDwlx",
        "outputId": "88e06220-ac8c-4544-d54a-17ffd0b711cd"
      },
      "execution_count": null,
      "outputs": [
        {
          "output_type": "execute_result",
          "data": {
            "text/plain": [
              "      Id  SepalLengthCm  SepalWidthCm  PetalLengthCm  PetalWidthCm  Label  \\\n",
              "50    51            7.0           3.2            4.7           1.4      1   \n",
              "51    52            6.4           3.2            4.5           1.5      1   \n",
              "52    53            6.9           3.1            4.9           1.5      1   \n",
              "53    54            5.5           2.3            4.0           1.3      1   \n",
              "54    55            6.5           2.8            4.6           1.5      1   \n",
              "..   ...            ...           ...            ...           ...    ...   \n",
              "145  146            6.7           3.0            5.2           2.3     -1   \n",
              "146  147            6.3           2.5            5.0           1.9     -1   \n",
              "147  148            6.5           3.0            5.2           2.0     -1   \n",
              "148  149            6.2           3.4            5.4           2.3     -1   \n",
              "149  150            5.9           3.0            5.1           1.8     -1   \n",
              "\n",
              "     probR1  pred1  misclassified   prob2  pred2  misclassified2  prob3  \n",
              "50     0.01      1            0.0  0.0054      1             0.0  0.003  \n",
              "51     0.01      1            0.0  0.0054      1             0.0  0.003  \n",
              "52     0.01      1            0.0  0.0054      1             0.0  0.003  \n",
              "53     0.01      1            0.0  0.0054      1             0.0  0.003  \n",
              "54     0.01      1            0.0  0.0054      1             0.0  0.003  \n",
              "..      ...    ...            ...     ...    ...             ...    ...  \n",
              "145    0.01     -1            0.0  0.0054     -1             0.0  0.003  \n",
              "146    0.01     -1            0.0  0.0054     -1             0.0  0.003  \n",
              "147    0.01     -1            0.0  0.0054     -1             0.0  0.003  \n",
              "148    0.01     -1            0.0  0.0054     -1             0.0  0.003  \n",
              "149    0.01     -1            0.0  0.0054     -1             0.0  0.003  \n",
              "\n",
              "[100 rows x 13 columns]"
            ],
            "text/html": [
              "\n",
              "  <div id=\"df-b4fac7bc-d1f7-4498-8a94-891fa2daf605\">\n",
              "    <div class=\"colab-df-container\">\n",
              "      <div>\n",
              "<style scoped>\n",
              "    .dataframe tbody tr th:only-of-type {\n",
              "        vertical-align: middle;\n",
              "    }\n",
              "\n",
              "    .dataframe tbody tr th {\n",
              "        vertical-align: top;\n",
              "    }\n",
              "\n",
              "    .dataframe thead th {\n",
              "        text-align: right;\n",
              "    }\n",
              "</style>\n",
              "<table border=\"1\" class=\"dataframe\">\n",
              "  <thead>\n",
              "    <tr style=\"text-align: right;\">\n",
              "      <th></th>\n",
              "      <th>Id</th>\n",
              "      <th>SepalLengthCm</th>\n",
              "      <th>SepalWidthCm</th>\n",
              "      <th>PetalLengthCm</th>\n",
              "      <th>PetalWidthCm</th>\n",
              "      <th>Label</th>\n",
              "      <th>probR1</th>\n",
              "      <th>pred1</th>\n",
              "      <th>misclassified</th>\n",
              "      <th>prob2</th>\n",
              "      <th>pred2</th>\n",
              "      <th>misclassified2</th>\n",
              "      <th>prob3</th>\n",
              "    </tr>\n",
              "  </thead>\n",
              "  <tbody>\n",
              "    <tr>\n",
              "      <th>50</th>\n",
              "      <td>51</td>\n",
              "      <td>7.0</td>\n",
              "      <td>3.2</td>\n",
              "      <td>4.7</td>\n",
              "      <td>1.4</td>\n",
              "      <td>1</td>\n",
              "      <td>0.01</td>\n",
              "      <td>1</td>\n",
              "      <td>0.0</td>\n",
              "      <td>0.0054</td>\n",
              "      <td>1</td>\n",
              "      <td>0.0</td>\n",
              "      <td>0.003</td>\n",
              "    </tr>\n",
              "    <tr>\n",
              "      <th>51</th>\n",
              "      <td>52</td>\n",
              "      <td>6.4</td>\n",
              "      <td>3.2</td>\n",
              "      <td>4.5</td>\n",
              "      <td>1.5</td>\n",
              "      <td>1</td>\n",
              "      <td>0.01</td>\n",
              "      <td>1</td>\n",
              "      <td>0.0</td>\n",
              "      <td>0.0054</td>\n",
              "      <td>1</td>\n",
              "      <td>0.0</td>\n",
              "      <td>0.003</td>\n",
              "    </tr>\n",
              "    <tr>\n",
              "      <th>52</th>\n",
              "      <td>53</td>\n",
              "      <td>6.9</td>\n",
              "      <td>3.1</td>\n",
              "      <td>4.9</td>\n",
              "      <td>1.5</td>\n",
              "      <td>1</td>\n",
              "      <td>0.01</td>\n",
              "      <td>1</td>\n",
              "      <td>0.0</td>\n",
              "      <td>0.0054</td>\n",
              "      <td>1</td>\n",
              "      <td>0.0</td>\n",
              "      <td>0.003</td>\n",
              "    </tr>\n",
              "    <tr>\n",
              "      <th>53</th>\n",
              "      <td>54</td>\n",
              "      <td>5.5</td>\n",
              "      <td>2.3</td>\n",
              "      <td>4.0</td>\n",
              "      <td>1.3</td>\n",
              "      <td>1</td>\n",
              "      <td>0.01</td>\n",
              "      <td>1</td>\n",
              "      <td>0.0</td>\n",
              "      <td>0.0054</td>\n",
              "      <td>1</td>\n",
              "      <td>0.0</td>\n",
              "      <td>0.003</td>\n",
              "    </tr>\n",
              "    <tr>\n",
              "      <th>54</th>\n",
              "      <td>55</td>\n",
              "      <td>6.5</td>\n",
              "      <td>2.8</td>\n",
              "      <td>4.6</td>\n",
              "      <td>1.5</td>\n",
              "      <td>1</td>\n",
              "      <td>0.01</td>\n",
              "      <td>1</td>\n",
              "      <td>0.0</td>\n",
              "      <td>0.0054</td>\n",
              "      <td>1</td>\n",
              "      <td>0.0</td>\n",
              "      <td>0.003</td>\n",
              "    </tr>\n",
              "    <tr>\n",
              "      <th>...</th>\n",
              "      <td>...</td>\n",
              "      <td>...</td>\n",
              "      <td>...</td>\n",
              "      <td>...</td>\n",
              "      <td>...</td>\n",
              "      <td>...</td>\n",
              "      <td>...</td>\n",
              "      <td>...</td>\n",
              "      <td>...</td>\n",
              "      <td>...</td>\n",
              "      <td>...</td>\n",
              "      <td>...</td>\n",
              "      <td>...</td>\n",
              "    </tr>\n",
              "    <tr>\n",
              "      <th>145</th>\n",
              "      <td>146</td>\n",
              "      <td>6.7</td>\n",
              "      <td>3.0</td>\n",
              "      <td>5.2</td>\n",
              "      <td>2.3</td>\n",
              "      <td>-1</td>\n",
              "      <td>0.01</td>\n",
              "      <td>-1</td>\n",
              "      <td>0.0</td>\n",
              "      <td>0.0054</td>\n",
              "      <td>-1</td>\n",
              "      <td>0.0</td>\n",
              "      <td>0.003</td>\n",
              "    </tr>\n",
              "    <tr>\n",
              "      <th>146</th>\n",
              "      <td>147</td>\n",
              "      <td>6.3</td>\n",
              "      <td>2.5</td>\n",
              "      <td>5.0</td>\n",
              "      <td>1.9</td>\n",
              "      <td>-1</td>\n",
              "      <td>0.01</td>\n",
              "      <td>-1</td>\n",
              "      <td>0.0</td>\n",
              "      <td>0.0054</td>\n",
              "      <td>-1</td>\n",
              "      <td>0.0</td>\n",
              "      <td>0.003</td>\n",
              "    </tr>\n",
              "    <tr>\n",
              "      <th>147</th>\n",
              "      <td>148</td>\n",
              "      <td>6.5</td>\n",
              "      <td>3.0</td>\n",
              "      <td>5.2</td>\n",
              "      <td>2.0</td>\n",
              "      <td>-1</td>\n",
              "      <td>0.01</td>\n",
              "      <td>-1</td>\n",
              "      <td>0.0</td>\n",
              "      <td>0.0054</td>\n",
              "      <td>-1</td>\n",
              "      <td>0.0</td>\n",
              "      <td>0.003</td>\n",
              "    </tr>\n",
              "    <tr>\n",
              "      <th>148</th>\n",
              "      <td>149</td>\n",
              "      <td>6.2</td>\n",
              "      <td>3.4</td>\n",
              "      <td>5.4</td>\n",
              "      <td>2.3</td>\n",
              "      <td>-1</td>\n",
              "      <td>0.01</td>\n",
              "      <td>-1</td>\n",
              "      <td>0.0</td>\n",
              "      <td>0.0054</td>\n",
              "      <td>-1</td>\n",
              "      <td>0.0</td>\n",
              "      <td>0.003</td>\n",
              "    </tr>\n",
              "    <tr>\n",
              "      <th>149</th>\n",
              "      <td>150</td>\n",
              "      <td>5.9</td>\n",
              "      <td>3.0</td>\n",
              "      <td>5.1</td>\n",
              "      <td>1.8</td>\n",
              "      <td>-1</td>\n",
              "      <td>0.01</td>\n",
              "      <td>-1</td>\n",
              "      <td>0.0</td>\n",
              "      <td>0.0054</td>\n",
              "      <td>-1</td>\n",
              "      <td>0.0</td>\n",
              "      <td>0.003</td>\n",
              "    </tr>\n",
              "  </tbody>\n",
              "</table>\n",
              "<p>100 rows × 13 columns</p>\n",
              "</div>\n",
              "      <button class=\"colab-df-convert\" onclick=\"convertToInteractive('df-b4fac7bc-d1f7-4498-8a94-891fa2daf605')\"\n",
              "              title=\"Convert this dataframe to an interactive table.\"\n",
              "              style=\"display:none;\">\n",
              "        \n",
              "  <svg xmlns=\"http://www.w3.org/2000/svg\" height=\"24px\"viewBox=\"0 0 24 24\"\n",
              "       width=\"24px\">\n",
              "    <path d=\"M0 0h24v24H0V0z\" fill=\"none\"/>\n",
              "    <path d=\"M18.56 5.44l.94 2.06.94-2.06 2.06-.94-2.06-.94-.94-2.06-.94 2.06-2.06.94zm-11 1L8.5 8.5l.94-2.06 2.06-.94-2.06-.94L8.5 2.5l-.94 2.06-2.06.94zm10 10l.94 2.06.94-2.06 2.06-.94-2.06-.94-.94-2.06-.94 2.06-2.06.94z\"/><path d=\"M17.41 7.96l-1.37-1.37c-.4-.4-.92-.59-1.43-.59-.52 0-1.04.2-1.43.59L10.3 9.45l-7.72 7.72c-.78.78-.78 2.05 0 2.83L4 21.41c.39.39.9.59 1.41.59.51 0 1.02-.2 1.41-.59l7.78-7.78 2.81-2.81c.8-.78.8-2.07 0-2.86zM5.41 20L4 18.59l7.72-7.72 1.47 1.35L5.41 20z\"/>\n",
              "  </svg>\n",
              "      </button>\n",
              "      \n",
              "  <style>\n",
              "    .colab-df-container {\n",
              "      display:flex;\n",
              "      flex-wrap:wrap;\n",
              "      gap: 12px;\n",
              "    }\n",
              "\n",
              "    .colab-df-convert {\n",
              "      background-color: #E8F0FE;\n",
              "      border: none;\n",
              "      border-radius: 50%;\n",
              "      cursor: pointer;\n",
              "      display: none;\n",
              "      fill: #1967D2;\n",
              "      height: 32px;\n",
              "      padding: 0 0 0 0;\n",
              "      width: 32px;\n",
              "    }\n",
              "\n",
              "    .colab-df-convert:hover {\n",
              "      background-color: #E2EBFA;\n",
              "      box-shadow: 0px 1px 2px rgba(60, 64, 67, 0.3), 0px 1px 3px 1px rgba(60, 64, 67, 0.15);\n",
              "      fill: #174EA6;\n",
              "    }\n",
              "\n",
              "    [theme=dark] .colab-df-convert {\n",
              "      background-color: #3B4455;\n",
              "      fill: #D2E3FC;\n",
              "    }\n",
              "\n",
              "    [theme=dark] .colab-df-convert:hover {\n",
              "      background-color: #434B5C;\n",
              "      box-shadow: 0px 1px 3px 1px rgba(0, 0, 0, 0.15);\n",
              "      filter: drop-shadow(0px 1px 2px rgba(0, 0, 0, 0.3));\n",
              "      fill: #FFFFFF;\n",
              "    }\n",
              "  </style>\n",
              "\n",
              "      <script>\n",
              "        const buttonEl =\n",
              "          document.querySelector('#df-b4fac7bc-d1f7-4498-8a94-891fa2daf605 button.colab-df-convert');\n",
              "        buttonEl.style.display =\n",
              "          google.colab.kernel.accessAllowed ? 'block' : 'none';\n",
              "\n",
              "        async function convertToInteractive(key) {\n",
              "          const element = document.querySelector('#df-b4fac7bc-d1f7-4498-8a94-891fa2daf605');\n",
              "          const dataTable =\n",
              "            await google.colab.kernel.invokeFunction('convertToInteractive',\n",
              "                                                     [key], {});\n",
              "          if (!dataTable) return;\n",
              "\n",
              "          const docLinkHtml = 'Like what you see? Visit the ' +\n",
              "            '<a target=\"_blank\" href=https://colab.research.google.com/notebooks/data_table.ipynb>data table notebook</a>'\n",
              "            + ' to learn more about interactive tables.';\n",
              "          element.innerHTML = '';\n",
              "          dataTable['output_type'] = 'display_data';\n",
              "          await google.colab.output.renderOutput(dataTable, element);\n",
              "          const docLink = document.createElement('div');\n",
              "          docLink.innerHTML = docLinkHtml;\n",
              "          element.appendChild(docLink);\n",
              "        }\n",
              "      </script>\n",
              "    </div>\n",
              "  </div>\n",
              "  "
            ]
          },
          "metadata": {},
          "execution_count": 63
        }
      ]
    },
    {
      "cell_type": "code",
      "source": [
        "#round 3\n",
        "random.seed(30)\n",
        "df3 = df.sample(len(df), replace = True, weights = df['prob3'])\n",
        "df3 = df3.iloc[:,0:6]\n",
        "X_train = df3.iloc[0:len(iris),1:5]\n",
        "y_train = df3.iloc[0:len(iris),5]\n",
        "\n",
        "clf_gini = DecisionTreeClassifier(criterion = \"gini\", random_state = 100, max_depth=1)\n",
        "clf = clf_gini.fit(X_train, y_train)\n",
        "\n",
        "#adding a column pred3 after the third round of boosting\n",
        "y_pred = clf_gini.predict(df.iloc[0:len(iris),1:5])\n",
        "df['pred3'] = y_pred\n",
        "#plotting tree for round 3 boosting\n",
        "tree.plot_tree(clf)"
      ],
      "metadata": {
        "colab": {
          "base_uri": "https://localhost:8080/",
          "height": 304
        },
        "id": "x-Q86D_0kQ_t",
        "outputId": "7ddbe3df-a282-48bc-d357-e24bc517ef93"
      },
      "execution_count": null,
      "outputs": [
        {
          "output_type": "execute_result",
          "data": {
            "text/plain": [
              "[Text(0.5, 0.75, 'X[3] <= 1.65\\ngini = 0.375\\nsamples = 100\\nvalue = [75, 25]'),\n",
              " Text(0.25, 0.25, 'gini = 0.48\\nsamples = 25\\nvalue = [10, 15]'),\n",
              " Text(0.75, 0.25, 'gini = 0.231\\nsamples = 75\\nvalue = [65, 10]')]"
            ]
          },
          "metadata": {},
          "execution_count": 64
        },
        {
          "output_type": "display_data",
          "data": {
            "text/plain": [
              "<Figure size 432x288 with 1 Axes>"
            ],
            "image/png": "[encoded data removed]"
          },
          "metadata": {
            "needs_background": "light"
          }
        }
      ]
    },
    {
      "cell_type": "code",
      "source": [
        "#adding a field misclassified2\n",
        "df.loc[df.Label != df.pred2, 'misclassified3'] = 1\n",
        "df.loc[df.Label == df.pred2, 'misclassified3'] = 0\n",
        "# calculation of error\n",
        "e3 = sum(df['misclassified2'] * df['prob2'])\n",
        "#calculation of alpha\n",
        "sigma3 = 0.5*log((1-e3)/e3)\n",
        "#print sigma and error\n",
        "print(\"Error of Third Iteration\", e3)\n",
        "print(\"Sigma of Third Iteration\", sigma3)\n"
      ],
      "metadata": {
        "colab": {
          "base_uri": "https://localhost:8080/"
        },
        "id": "AZOiqqQilGia",
        "outputId": "f393109b-00b9-4de6-fb3e-a0a9dff8b73a"
      },
      "execution_count": null,
      "outputs": [
        {
          "output_type": "stream",
          "name": "stdout",
          "text": [
            "Error of Third Iteration 0.08950000000000001\n",
            "Sigma of Third Iteration 1.1598776369434263\n"
          ]
        }
      ]
    },
    {
      "cell_type": "code",
      "source": [
        "#update weight\n",
        "new_weight = df['prob3']*np.exp(-1*sigma3*df['Label']*df['pred3'])\n",
        "z = sum(new_weight)\n",
        "normalized_weight = new_weight/sum(new_weight)\n",
        "df['prob4'] = round(normalized_weight,4)\n"
      ],
      "metadata": {
        "id": "2K0e87p1MhFc"
      },
      "execution_count": null,
      "outputs": []
    },
    {
      "cell_type": "code",
      "source": [
        "#Round 4\n",
        "random.seed(40)\n",
        "df4 = df.sample(len(df), replace = True, weights = df['prob4'])\n",
        "df4 = df4.iloc[:,0:6]\n",
        "X_train = df4.iloc[0:len(iris),1:5]\n",
        "y_train = df4.iloc[0:len(iris),5]\n",
        "\n",
        "clf_gini = DecisionTreeClassifier(criterion = \"gini\", random_state = 100, max_depth=1)\n",
        "clf = clf_gini.fit(X_train, y_train)\n",
        "\n",
        "#adding a column pred3 after the third round of boosting\n",
        "y_pred = clf_gini.predict(df.iloc[0:len(iris),1:5])\n",
        "df['pred4'] = y_pred\n",
        "#plotting tree for round 3 boosting\n",
        "tree.plot_tree(clf)"
      ],
      "metadata": {
        "colab": {
          "base_uri": "https://localhost:8080/",
          "height": 304
        },
        "id": "WUt8500BM_tw",
        "outputId": "ef75e45e-67b9-46b4-de68-e3a02ea26330"
      },
      "execution_count": null,
      "outputs": [
        {
          "output_type": "execute_result",
          "data": {
            "text/plain": [
              "[Text(0.5, 0.75, 'X[1] <= 2.85\\ngini = 0.455\\nsamples = 100\\nvalue = [65, 35]'),\n",
              " Text(0.25, 0.25, 'gini = 0.15\\nsamples = 61\\nvalue = [56, 5]'),\n",
              " Text(0.75, 0.25, 'gini = 0.355\\nsamples = 39\\nvalue = [9, 30]')]"
            ]
          },
          "metadata": {},
          "execution_count": 67
        },
        {
          "output_type": "display_data",
          "data": {
            "text/plain": [
              "<Figure size 432x288 with 1 Axes>"
            ],
            "image/png": "[encoded data removed]"
          },
          "metadata": {
            "needs_background": "light"
          }
        }
      ]
    },
    {
      "cell_type": "code",
      "source": [
        "#adding a field misclassified4\n",
        "df.loc[df.Label != df.pred4, 'misclassified4'] = 1\n",
        "df.loc[df.Label == df.pred4, 'misclassified4'] = 0\n",
        "#error calculation\n",
        "e4 = sum(df['misclassified4'] * df['prob4']) \n",
        "# calculation of performance (alpha)\n",
        "sigma4 = 0.5*log((1-e4)/e4)\n",
        "#print sigma and error\n",
        "print(\"Error of Fourth Iteration\", e4)\n",
        "print(\"Sigma of Fourth Iteration\", sigma4)"
      ],
      "metadata": {
        "colab": {
          "base_uri": "https://localhost:8080/"
        },
        "id": "4Jatj6EnNSch",
        "outputId": "2b1f94fa-6407-4670-e6ca-05e8fc499d3f"
      },
      "execution_count": null,
      "outputs": [
        {
          "output_type": "stream",
          "name": "stdout",
          "text": [
            "Error of Fourth Iteration 0.2110999999999998\n",
            "Sigma of Fourth Iteration 0.659153807623385\n"
          ]
        }
      ]
    },
    {
      "cell_type": "code",
      "source": [
        "#printing the alpha value which is used in each round of boosting\n",
        "print(\"The Sigma and Error in First Round\", sigma1, e1)\n",
        "print(\"The Sigma and Error in Second Round\",sigma2, e2)\n",
        "print(\"The Sigma and Error in Third Round\", sigma3, e3)\n",
        "print(\"The Sigma and Error in Fourth Round\", sigma3, e4)"
      ],
      "metadata": {
        "colab": {
          "base_uri": "https://localhost:8080/"
        },
        "id": "8zN-gHZYlgFL",
        "outputId": "911ab0e6-a846-49fa-fdc0-1dc5bf35e653"
      },
      "execution_count": null,
      "outputs": [
        {
          "output_type": "stream",
          "name": "stdout",
          "text": [
            "The Sigma and Error in First Round 1.2211735176846021 0.08\n",
            "The Sigma and Error in Second Round 1.1598776369434263 0.08950000000000001\n",
            "The Sigma and Error in Third Round 1.1598776369434263 0.08950000000000001\n",
            "The Sigma and Error in Fourth Round 1.1598776369434263 0.2110999999999998\n"
          ]
        }
      ]
    },
    {
      "cell_type": "code",
      "source": [
        "#final prediction\n",
        "t = sigma1 * df['pred1'] + sigma2 * df['pred2'] + sigma3 * df['pred3'] + sigma4 * df['pred4']\n",
        "#sign of the final prediction\n",
        "np.sign(list(t))\n",
        "#Final Prediction in Column\n",
        "df['final_pred'] = np.sign(list(t))\n",
        "df\n",
        "\n"
      ],
      "metadata": {
        "colab": {
          "base_uri": "https://localhost:8080/",
          "height": 487
        },
        "id": "7oTIN7uOIREt",
        "outputId": "a9623359-7596-47bd-bad2-ae7a50b3f6a9"
      },
      "execution_count": null,
      "outputs": [
        {
          "output_type": "execute_result",
          "data": {
            "text/plain": [
              "      Id  SepalLengthCm  SepalWidthCm  PetalLengthCm  PetalWidthCm  Label  \\\n",
              "50    51            7.0           3.2            4.7           1.4      1   \n",
              "51    52            6.4           3.2            4.5           1.5      1   \n",
              "52    53            6.9           3.1            4.9           1.5      1   \n",
              "53    54            5.5           2.3            4.0           1.3      1   \n",
              "54    55            6.5           2.8            4.6           1.5      1   \n",
              "..   ...            ...           ...            ...           ...    ...   \n",
              "145  146            6.7           3.0            5.2           2.3     -1   \n",
              "146  147            6.3           2.5            5.0           1.9     -1   \n",
              "147  148            6.5           3.0            5.2           2.0     -1   \n",
              "148  149            6.2           3.4            5.4           2.3     -1   \n",
              "149  150            5.9           3.0            5.1           1.8     -1   \n",
              "\n",
              "     probR1  pred1  misclassified   prob2  pred2  misclassified2  prob3  \\\n",
              "50     0.01      1            0.0  0.0054      1             0.0  0.003   \n",
              "51     0.01      1            0.0  0.0054      1             0.0  0.003   \n",
              "52     0.01      1            0.0  0.0054      1             0.0  0.003   \n",
              "53     0.01      1            0.0  0.0054      1             0.0  0.003   \n",
              "54     0.01      1            0.0  0.0054      1             0.0  0.003   \n",
              "..      ...    ...            ...     ...    ...             ...    ...   \n",
              "145    0.01     -1            0.0  0.0054     -1             0.0  0.003   \n",
              "146    0.01     -1            0.0  0.0054     -1             0.0  0.003   \n",
              "147    0.01     -1            0.0  0.0054     -1             0.0  0.003   \n",
              "148    0.01     -1            0.0  0.0054     -1             0.0  0.003   \n",
              "149    0.01     -1            0.0  0.0054     -1             0.0  0.003   \n",
              "\n",
              "     pred3  misclassified3   prob4  pred4  misclassified4  final_pred  \n",
              "50       1             0.0  0.0011      1             0.0         1.0  \n",
              "51       1             0.0  0.0011      1             0.0         1.0  \n",
              "52       1             0.0  0.0011      1             0.0         1.0  \n",
              "53       1             0.0  0.0011     -1             1.0         1.0  \n",
              "54       1             0.0  0.0011     -1             1.0         1.0  \n",
              "..     ...             ...     ...    ...             ...         ...  \n",
              "145     -1             0.0  0.0011      1             1.0        -1.0  \n",
              "146     -1             0.0  0.0011     -1             0.0        -1.0  \n",
              "147     -1             0.0  0.0011      1             1.0        -1.0  \n",
              "148     -1             0.0  0.0011      1             1.0        -1.0  \n",
              "149     -1             0.0  0.0011      1             1.0        -1.0  \n",
              "\n",
              "[100 rows x 19 columns]"
            ],
            "text/html": [
              "\n",
              "  <div id=\"df-b92fc7ee-f4f0-4c51-8cfc-43298032226d\">\n",
              "    <div class=\"colab-df-container\">\n",
              "      <div>\n",
              "<style scoped>\n",
              "    .dataframe tbody tr th:only-of-type {\n",
              "        vertical-align: middle;\n",
              "    }\n",
              "\n",
              "    .dataframe tbody tr th {\n",
              "        vertical-align: top;\n",
              "    }\n",
              "\n",
              "    .dataframe thead th {\n",
              "        text-align: right;\n",
              "    }\n",
              "</style>\n",
              "<table border=\"1\" class=\"dataframe\">\n",
              "  <thead>\n",
              "    <tr style=\"text-align: right;\">\n",
              "      <th></th>\n",
              "      <th>Id</th>\n",
              "      <th>SepalLengthCm</th>\n",
              "      <th>SepalWidthCm</th>\n",
              "      <th>PetalLengthCm</th>\n",
              "      <th>PetalWidthCm</th>\n",
              "      <th>Label</th>\n",
              "      <th>probR1</th>\n",
              "      <th>pred1</th>\n",
              "      <th>misclassified</th>\n",
              "      <th>prob2</th>\n",
              "      <th>pred2</th>\n",
              "      <th>misclassified2</th>\n",
              "      <th>prob3</th>\n",
              "      <th>pred3</th>\n",
              "      <th>misclassified3</th>\n",
              "      <th>prob4</th>\n",
              "      <th>pred4</th>\n",
              "      <th>misclassified4</th>\n",
              "      <th>final_pred</th>\n",
              "    </tr>\n",
              "  </thead>\n",
              "  <tbody>\n",
              "    <tr>\n",
              "      <th>50</th>\n",
              "      <td>51</td>\n",
              "      <td>7.0</td>\n",
              "      <td>3.2</td>\n",
              "      <td>4.7</td>\n",
              "      <td>1.4</td>\n",
              "      <td>1</td>\n",
              "      <td>0.01</td>\n",
              "      <td>1</td>\n",
              "      <td>0.0</td>\n",
              "      <td>0.0054</td>\n",
              "      <td>1</td>\n",
              "      <td>0.0</td>\n",
              "      <td>0.003</td>\n",
              "      <td>1</td>\n",
              "      <td>0.0</td>\n",
              "      <td>0.0011</td>\n",
              "      <td>1</td>\n",
              "      <td>0.0</td>\n",
              "      <td>1.0</td>\n",
              "    </tr>\n",
              "    <tr>\n",
              "      <th>51</th>\n",
              "      <td>52</td>\n",
              "      <td>6.4</td>\n",
              "      <td>3.2</td>\n",
              "      <td>4.5</td>\n",
              "      <td>1.5</td>\n",
              "      <td>1</td>\n",
              "      <td>0.01</td>\n",
              "      <td>1</td>\n",
              "      <td>0.0</td>\n",
              "      <td>0.0054</td>\n",
              "      <td>1</td>\n",
              "      <td>0.0</td>\n",
              "      <td>0.003</td>\n",
              "      <td>1</td>\n",
              "      <td>0.0</td>\n",
              "      <td>0.0011</td>\n",
              "      <td>1</td>\n",
              "      <td>0.0</td>\n",
              "      <td>1.0</td>\n",
              "    </tr>\n",
              "    <tr>\n",
              "      <th>52</th>\n",
              "      <td>53</td>\n",
              "      <td>6.9</td>\n",
              "      <td>3.1</td>\n",
              "      <td>4.9</td>\n",
              "      <td>1.5</td>\n",
              "      <td>1</td>\n",
              "      <td>0.01</td>\n",
              "      <td>1</td>\n",
              "      <td>0.0</td>\n",
              "      <td>0.0054</td>\n",
              "      <td>1</td>\n",
              "      <td>0.0</td>\n",
              "      <td>0.003</td>\n",
              "      <td>1</td>\n",
              "      <td>0.0</td>\n",
              "      <td>0.0011</td>\n",
              "      <td>1</td>\n",
              "      <td>0.0</td>\n",
              "      <td>1.0</td>\n",
              "    </tr>\n",
              "    <tr>\n",
              "      <th>53</th>\n",
              "      <td>54</td>\n",
              "      <td>5.5</td>\n",
              "      <td>2.3</td>\n",
              "      <td>4.0</td>\n",
              "      <td>1.3</td>\n",
              "      <td>1</td>\n",
              "      <td>0.01</td>\n",
              "      <td>1</td>\n",
              "      <td>0.0</td>\n",
              "      <td>0.0054</td>\n",
              "      <td>1</td>\n",
              "      <td>0.0</td>\n",
              "      <td>0.003</td>\n",
              "      <td>1</td>\n",
              "      <td>0.0</td>\n",
              "      <td>0.0011</td>\n",
              "      <td>-1</td>\n",
              "      <td>1.0</td>\n",
              "      <td>1.0</td>\n",
              "    </tr>\n",
              "    <tr>\n",
              "      <th>54</th>\n",
              "      <td>55</td>\n",
              "      <td>6.5</td>\n",
              "      <td>2.8</td>\n",
              "      <td>4.6</td>\n",
              "      <td>1.5</td>\n",
              "      <td>1</td>\n",
              "      <td>0.01</td>\n",
              "      <td>1</td>\n",
              "      <td>0.0</td>\n",
              "      <td>0.0054</td>\n",
              "      <td>1</td>\n",
              "      <td>0.0</td>\n",
              "      <td>0.003</td>\n",
              "      <td>1</td>\n",
              "      <td>0.0</td>\n",
              "      <td>0.0011</td>\n",
              "      <td>-1</td>\n",
              "      <td>1.0</td>\n",
              "      <td>1.0</td>\n",
              "    </tr>\n",
              "    <tr>\n",
              "      <th>...</th>\n",
              "      <td>...</td>\n",
              "      <td>...</td>\n",
              "      <td>...</td>\n",
              "      <td>...</td>\n",
              "      <td>...</td>\n",
              "      <td>...</td>\n",
              "      <td>...</td>\n",
              "      <td>...</td>\n",
              "      <td>...</td>\n",
              "      <td>...</td>\n",
              "      <td>...</td>\n",
              "      <td>...</td>\n",
              "      <td>...</td>\n",
              "      <td>...</td>\n",
              "      <td>...</td>\n",
              "      <td>...</td>\n",
              "      <td>...</td>\n",
              "      <td>...</td>\n",
              "      <td>...</td>\n",
              "    </tr>\n",
              "    <tr>\n",
              "      <th>145</th>\n",
              "      <td>146</td>\n",
              "      <td>6.7</td>\n",
              "      <td>3.0</td>\n",
              "      <td>5.2</td>\n",
              "      <td>2.3</td>\n",
              "      <td>-1</td>\n",
              "      <td>0.01</td>\n",
              "      <td>-1</td>\n",
              "      <td>0.0</td>\n",
              "      <td>0.0054</td>\n",
              "      <td>-1</td>\n",
              "      <td>0.0</td>\n",
              "      <td>0.003</td>\n",
              "      <td>-1</td>\n",
              "      <td>0.0</td>\n",
              "      <td>0.0011</td>\n",
              "      <td>1</td>\n",
              "      <td>1.0</td>\n",
              "      <td>-1.0</td>\n",
              "    </tr>\n",
              "    <tr>\n",
              "      <th>146</th>\n",
              "      <td>147</td>\n",
              "      <td>6.3</td>\n",
              "      <td>2.5</td>\n",
              "      <td>5.0</td>\n",
              "      <td>1.9</td>\n",
              "      <td>-1</td>\n",
              "      <td>0.01</td>\n",
              "      <td>-1</td>\n",
              "      <td>0.0</td>\n",
              "      <td>0.0054</td>\n",
              "      <td>-1</td>\n",
              "      <td>0.0</td>\n",
              "      <td>0.003</td>\n",
              "      <td>-1</td>\n",
              "      <td>0.0</td>\n",
              "      <td>0.0011</td>\n",
              "      <td>-1</td>\n",
              "      <td>0.0</td>\n",
              "      <td>-1.0</td>\n",
              "    </tr>\n",
              "    <tr>\n",
              "      <th>147</th>\n",
              "      <td>148</td>\n",
              "      <td>6.5</td>\n",
              "      <td>3.0</td>\n",
              "      <td>5.2</td>\n",
              "      <td>2.0</td>\n",
              "      <td>-1</td>\n",
              "      <td>0.01</td>\n",
              "      <td>-1</td>\n",
              "      <td>0.0</td>\n",
              "      <td>0.0054</td>\n",
              "      <td>-1</td>\n",
              "      <td>0.0</td>\n",
              "      <td>0.003</td>\n",
              "      <td>-1</td>\n",
              "      <td>0.0</td>\n",
              "      <td>0.0011</td>\n",
              "      <td>1</td>\n",
              "      <td>1.0</td>\n",
              "      <td>-1.0</td>\n",
              "    </tr>\n",
              "    <tr>\n",
              "      <th>148</th>\n",
              "      <td>149</td>\n",
              "      <td>6.2</td>\n",
              "      <td>3.4</td>\n",
              "      <td>5.4</td>\n",
              "      <td>2.3</td>\n",
              "      <td>-1</td>\n",
              "      <td>0.01</td>\n",
              "      <td>-1</td>\n",
              "      <td>0.0</td>\n",
              "      <td>0.0054</td>\n",
              "      <td>-1</td>\n",
              "      <td>0.0</td>\n",
              "      <td>0.003</td>\n",
              "      <td>-1</td>\n",
              "      <td>0.0</td>\n",
              "      <td>0.0011</td>\n",
              "      <td>1</td>\n",
              "      <td>1.0</td>\n",
              "      <td>-1.0</td>\n",
              "    </tr>\n",
              "    <tr>\n",
              "      <th>149</th>\n",
              "      <td>150</td>\n",
              "      <td>5.9</td>\n",
              "      <td>3.0</td>\n",
              "      <td>5.1</td>\n",
              "      <td>1.8</td>\n",
              "      <td>-1</td>\n",
              "      <td>0.01</td>\n",
              "      <td>-1</td>\n",
              "      <td>0.0</td>\n",
              "      <td>0.0054</td>\n",
              "      <td>-1</td>\n",
              "      <td>0.0</td>\n",
              "      <td>0.003</td>\n",
              "      <td>-1</td>\n",
              "      <td>0.0</td>\n",
              "      <td>0.0011</td>\n",
              "      <td>1</td>\n",
              "      <td>1.0</td>\n",
              "      <td>-1.0</td>\n",
              "    </tr>\n",
              "  </tbody>\n",
              "</table>\n",
              "<p>100 rows × 19 columns</p>\n",
              "</div>\n",
              "      <button class=\"colab-df-convert\" onclick=\"convertToInteractive('df-b92fc7ee-f4f0-4c51-8cfc-43298032226d')\"\n",
              "              title=\"Convert this dataframe to an interactive table.\"\n",
              "              style=\"display:none;\">\n",
              "        \n",
              "  <svg xmlns=\"http://www.w3.org/2000/svg\" height=\"24px\"viewBox=\"0 0 24 24\"\n",
              "       width=\"24px\">\n",
              "    <path d=\"M0 0h24v24H0V0z\" fill=\"none\"/>\n",
              "    <path d=\"M18.56 5.44l.94 2.06.94-2.06 2.06-.94-2.06-.94-.94-2.06-.94 2.06-2.06.94zm-11 1L8.5 8.5l.94-2.06 2.06-.94-2.06-.94L8.5 2.5l-.94 2.06-2.06.94zm10 10l.94 2.06.94-2.06 2.06-.94-2.06-.94-.94-2.06-.94 2.06-2.06.94z\"/><path d=\"M17.41 7.96l-1.37-1.37c-.4-.4-.92-.59-1.43-.59-.52 0-1.04.2-1.43.59L10.3 9.45l-7.72 7.72c-.78.78-.78 2.05 0 2.83L4 21.41c.39.39.9.59 1.41.59.51 0 1.02-.2 1.41-.59l7.78-7.78 2.81-2.81c.8-.78.8-2.07 0-2.86zM5.41 20L4 18.59l7.72-7.72 1.47 1.35L5.41 20z\"/>\n",
              "  </svg>\n",
              "      </button>\n",
              "      \n",
              "  <style>\n",
              "    .colab-df-container {\n",
              "      display:flex;\n",
              "      flex-wrap:wrap;\n",
              "      gap: 12px;\n",
              "    }\n",
              "\n",
              "    .colab-df-convert {\n",
              "      background-color: #E8F0FE;\n",
              "      border: none;\n",
              "      border-radius: 50%;\n",
              "      cursor: pointer;\n",
              "      display: none;\n",
              "      fill: #1967D2;\n",
              "      height: 32px;\n",
              "      padding: 0 0 0 0;\n",
              "      width: 32px;\n",
              "    }\n",
              "\n",
              "    .colab-df-convert:hover {\n",
              "      background-color: #E2EBFA;\n",
              "      box-shadow: 0px 1px 2px rgba(60, 64, 67, 0.3), 0px 1px 3px 1px rgba(60, 64, 67, 0.15);\n",
              "      fill: #174EA6;\n",
              "    }\n",
              "\n",
              "    [theme=dark] .colab-df-convert {\n",
              "      background-color: #3B4455;\n",
              "      fill: #D2E3FC;\n",
              "    }\n",
              "\n",
              "    [theme=dark] .colab-df-convert:hover {\n",
              "      background-color: #434B5C;\n",
              "      box-shadow: 0px 1px 3px 1px rgba(0, 0, 0, 0.15);\n",
              "      filter: drop-shadow(0px 1px 2px rgba(0, 0, 0, 0.3));\n",
              "      fill: #FFFFFF;\n",
              "    }\n",
              "  </style>\n",
              "\n",
              "      <script>\n",
              "        const buttonEl =\n",
              "          document.querySelector('#df-b92fc7ee-f4f0-4c51-8cfc-43298032226d button.colab-df-convert');\n",
              "        buttonEl.style.display =\n",
              "          google.colab.kernel.accessAllowed ? 'block' : 'none';\n",
              "\n",
              "        async function convertToInteractive(key) {\n",
              "          const element = document.querySelector('#df-b92fc7ee-f4f0-4c51-8cfc-43298032226d');\n",
              "          const dataTable =\n",
              "            await google.colab.kernel.invokeFunction('convertToInteractive',\n",
              "                                                     [key], {});\n",
              "          if (!dataTable) return;\n",
              "\n",
              "          const docLinkHtml = 'Like what you see? Visit the ' +\n",
              "            '<a target=\"_blank\" href=https://colab.research.google.com/notebooks/data_table.ipynb>data table notebook</a>'\n",
              "            + ' to learn more about interactive tables.';\n",
              "          element.innerHTML = '';\n",
              "          dataTable['output_type'] = 'display_data';\n",
              "          await google.colab.output.renderOutput(dataTable, element);\n",
              "          const docLink = document.createElement('div');\n",
              "          docLink.innerHTML = docLinkHtml;\n",
              "          element.appendChild(docLink);\n",
              "        }\n",
              "      </script>\n",
              "    </div>\n",
              "  </div>\n",
              "  "
            ]
          },
          "metadata": {},
          "execution_count": 73
        }
      ]
    },
    {
      "cell_type": "code",
      "source": [
        "from sklearn.metrics import confusion_matrix\n",
        "#Confusion matrix\n",
        "c=confusion_matrix(df['Label'], df['final_pred'])\n",
        "c"
      ],
      "metadata": {
        "colab": {
          "base_uri": "https://localhost:8080/"
        },
        "id": "JvgUbjD7Iqzk",
        "outputId": "4925675d-26b7-4aef-ee8e-bf4f1f9605f4"
      },
      "execution_count": null,
      "outputs": [
        {
          "output_type": "execute_result",
          "data": {
            "text/plain": [
              "array([[45,  5],\n",
              "       [ 2, 48]])"
            ]
          },
          "metadata": {},
          "execution_count": 74
        }
      ]
    },
    {
      "cell_type": "code",
      "source": [
        "#Overall Accuracy\n",
        "accuracy=(c[0,0]+c[1,1])/np.sum(c)*100\n",
        "print(\"Accuracy\", accuracy)"
      ],
      "metadata": {
        "colab": {
          "base_uri": "https://localhost:8080/"
        },
        "id": "spIjBkhSI94C",
        "outputId": "7119f7a6-fd0c-4199-9dec-3d868be06d7f"
      },
      "execution_count": null,
      "outputs": [
        {
          "output_type": "stream",
          "name": "stdout",
          "text": [
            "Accuracy 93.0\n"
          ]
        }
      ]
    },
    {
      "cell_type": "code",
      "source": [
        "sigma = [sigma1, sigma2, sigma3, sigma4]\n",
        "error = [e1,e2,e3, e4]"
      ],
      "metadata": {
        "id": "S4C2aRD0JJ4j"
      },
      "execution_count": null,
      "outputs": []
    },
    {
      "cell_type": "code",
      "source": [
        "# plotting the points\n",
        "plt.plot(sigma, label='Sigma', color='green', linestyle='dashed', linewidth = 3, marker='o', markerfacecolor='blue', markersize=12)\n",
        "plt.title(\"Comparision in Sigma\")\n",
        "plt.xlabel('Model')\n",
        "plt.ylabel('Sigma')\n",
        "plt.legend()\n",
        "plt.show()"
      ],
      "metadata": {
        "colab": {
          "base_uri": "https://localhost:8080/",
          "height": 295
        },
        "id": "veBlXc6MJEfV",
        "outputId": "47fa351d-848c-488b-f384-94b0762c8d88"
      },
      "execution_count": null,
      "outputs": [
        {
          "output_type": "display_data",
          "data": {
            "text/plain": [
              "<Figure size 432x288 with 1 Axes>"
            ],
            "image/png": "[encoded data removed]"
          },
          "metadata": {
            "needs_background": "light"
          }
        }
      ]
    },
    {
      "cell_type": "code",
      "source": [
        "# plotting the points\n",
        "plt.plot(error, label='Error', color='green', linestyle='dashed', linewidth = 3, marker='o', markerfacecolor='blue', markersize=12)\n",
        "plt.title(\"Comparision in Error\")\n",
        "plt.xlabel('Model')\n",
        "plt.ylabel('Error')\n",
        "plt.legend()\n",
        "plt.show()"
      ],
      "metadata": {
        "colab": {
          "base_uri": "https://localhost:8080/",
          "height": 295
        },
        "id": "3r8skYwCJXvr",
        "outputId": "4a29cead-da52-4866-e9db-4ad148123bf8"
      },
      "execution_count": null,
      "outputs": [
        {
          "output_type": "display_data",
          "data": {
            "text/plain": [
              "<Figure size 432x288 with 1 Axes>"
            ],
            "image/png": "[encoded data removed]"
          },
          "metadata": {
            "needs_background": "light"
          }
        }
      ]
    },
    {
      "cell_type": "markdown",
      "source": [
        "## Conclusion:\n",
        "1. *AdaBoost ensemble is an boosting algorithm created from decision trees added sequentially to the model.*\n",
        "2. *A high learning rate can cause the model to converge too rapidly to a sub-optimal solution rather than in the actual optimal solution, while a too-low learning rate can cause the process to stall.This happened in this case too where we saw at learning rates 0.001 and 0.01 the accuracy was as low as 0.067 and at 5.0 it went down to 0.489. Hence, we checked around the numbers such as 0.1 and 1.0 to get a better accuracy if possible since these two gave the best accuracy.*\n",
        "3. *The number of trees added to the model must be high for the model to work well. But in the mean time we need to take care about the computation time. It is a tradeoff between accuracy and computation time. In our case, the accuracy didn't increase after 20 trees.*\n",
        "4. *A decision tree with one level is used as the weak learner by default. It is known as Decision Stump. But we can improve the ensembles or make them less weak by changing the base_estimators in DecisionTreeClassifier. This is also a tradeoff between accuracy and compuattion time. In our case, the accuracy was best with decision stumps of depth = 1.*\n",
        "5. *Generally, we use Decision Tree as base model for Adaboost but Logistic Regression can be used and a similar accuracy is reached in this model.*\n",
        "6. *AdaBoost is an ensemble learning method that is commonly used to improve the efficiency of binary classifiers, but it can also be used to improve the efficiency of multi-class classifiers (applied-here) and regression models. AdaBoost employs an iterative strategy to improve weak classifiers by learning from their mistakes.*\n",
        "7. *It is a sequential learner whereas in comparision to the bagging algorithm Random Forest which was a parallel learner.*"
      ],
      "metadata": {
        "id": "rXJBKJJyJJjf"
      }
    },
    {
      "cell_type": "code",
      "source": [
        ""
      ],
      "metadata": {
        "id": "1eImCa5pI732"
      },
      "execution_count": null,
      "outputs": []
    },
    {
      "cell_type": "code",
      "source": [
        ""
      ],
      "metadata": {
        "id": "dTKg8F-COUHa"
      },
      "execution_count": null,
      "outputs": []
    }
  ]
}